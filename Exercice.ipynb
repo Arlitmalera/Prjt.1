{
 "cells": [
  {
   "cell_type": "markdown",
   "id": "d2687b5f",
   "metadata": {},
   "source": [
    "# Exo1:\n",
    "## Ecrivez un programme Python qui accepte le prénom et le nom de l'utilisateur et les imprime dans l'ordre inverse avec un espace entre eux."
   ]
  },
  {
   "cell_type": "code",
   "execution_count": null,
   "id": "7fa924dc",
   "metadata": {},
   "outputs": [],
   "source": [
    "Prenom = input(\"Mettez le prenom: \")\n",
    "Nom = input(\"Mettez le nom: \")\n",
    "print(Nom,Prenom)"
   ]
  },
  {
   "cell_type": "markdown",
   "id": "a52b9f2d",
   "metadata": {},
   "source": [
    "# Exo2 :\n",
    "## Écrivez un programme Python qui accepte un entier (n) et calcule la valeur de n+nn+nnn.La valeur d'échantillonnage de n est 5.Résultat attendu : 615 (5+55+555)"
   ]
  },
  {
   "cell_type": "code",
   "execution_count": null,
   "id": "3db92b14",
   "metadata": {},
   "outputs": [],
   "source": [
    "n = input(\"Mettez n: \")\n",
    "n= 5\n",
    "print(n+(nn)+(nnn))"
   ]
  },
  {
   "cell_type": "markdown",
   "id": "6cb0265a",
   "metadata": {},
   "source": [
    "# Exo3 :\n",
    "\n",
    "## Écrivez un programme Python pour déterminer si un nombre donné (accepté par l'utilisateur) est pair ou impair, et imprimez un message approprié à l'utilisateur."
   ]
  },
  {
   "cell_type": "code",
   "execution_count": null,
   "id": "ee75cc63",
   "metadata": {},
   "outputs": [],
   "source": [
    " x = int(input(\"saisir le nombre : \"))\n",
    " if x==2:\n",
    "  print(\"pair\")\n",
    " elif x==3:\n",
    "   print(\"impair\")     "
   ]
  },
  {
   "cell_type": "markdown",
   "id": "76cb6119",
   "metadata": {},
   "source": [
    "# Exo4 :\n",
    "\n",
    "## Écrivez un programme qui trouvera tous ces nombres qui sont divisibles par 7 mais qui ne sont pas un multiple de 5, entre 2000 et 3200 (les deux inclus). Les nombres obtenus doivent être imprimés en séquence sur une seule ligne.\n",
    "\n",
    "## Conseils : pensez à utiliser la méthode range(#begin, #end) "
   ]
  },
  {
   "cell_type": "code",
   "execution_count": null,
   "id": "128b6dbf",
   "metadata": {},
   "outputs": [],
   "source": [
    "for i in range(2000,3201):\n",
    "    if i%7 != 0:\n",
    "           print(i)"
   ]
  },
  {
   "cell_type": "markdown",
   "id": "285e93b5",
   "metadata": {},
   "source": [
    "# Exo5 :\n",
    "\n",
    "## Écrire un programme capable de calculer la factorielle d'un nombre donné. Les résultats doivent être imprimés en séquence sur une seule ligne. Supposons que l'entrée suivante soit fournie au programme : 8. Ensuite, la sortie doit être : 40320 \n",
    "## Astuce : La fonction factorielle (symbole : !) multiplie tous les nombres entiers à partir du nombre choisi jusqu'à 1.       \n",
    "## Exemples :\n",
    "## 4 ! = 4 × 3 × 2 × \n",
    "## 8 ! = 8 × 7 × 6 × 5 × 4 × 3 × 2 × 1\n",
    "## 1! = 1\n",
    "## 0 ! = 1 (par convention)"
   ]
  },
  {
   "cell_type": "code",
   "execution_count": null,
   "id": "c8468261",
   "metadata": {},
   "outputs": [],
   "source": []
  },
  {
   "cell_type": "markdown",
   "id": "0dd77cd7",
   "metadata": {},
   "source": [
    "# Exo6 :\n",
    "\n",
    "## Écrivez un programme pour supprimer les caractères qui ont des valeurs d'index impaires d'une chaîne donnée.\n",
    "## Par exemple : string=\"hello team\"\n",
    "## Le résultat devrait être : hlota"
   ]
  },
  {
   "cell_type": "code",
   "execution_count": null,
   "id": "4f016fbc",
   "metadata": {},
   "outputs": [],
   "source": [
    "Z =\"hello team\"\n",
    "print(Z[0:9])"
   ]
  },
  {
   "cell_type": "markdown",
   "id": "92c38897",
   "metadata": {},
   "source": [
    "# Exo7 :\n",
    "\n",
    "## Dans ce défi, vous devez actualiser un prix en fonction de sa valeur.\n",
    "\n",
    "## - Si le prix est de 500 ou plus, il y aura une remise de 50 %.\n",
    "\n",
    "## - Si le prix est compris entre 200 et 500 (200 inclus), il y aura une remise de 30 %.\n",
    "\n",
    "## - Si le prix est inférieur à 200, il y aura une remise de 10 %."
   ]
  },
  {
   "cell_type": "code",
   "execution_count": null,
   "id": "04bf10e6",
   "metadata": {},
   "outputs": [],
   "source": [
    "r =int(input(\"Mettez le prix :\"))\n",
    "if r>=500:\n",
    "    print(\"Remise de 50%\")\n",
    "elif r<=500:\n",
    "    print(\"Remise de 30%\")\n",
    "else: \n",
    "    r<200\n",
    "    print(\"Remise de 10%\")\n",
    "    "
   ]
  }
 ],
 "metadata": {
  "kernelspec": {
   "display_name": "Python 3 (ipykernel)",
   "language": "python",
   "name": "python3"
  },
  "language_info": {
   "codemirror_mode": {
    "name": "ipython",
    "version": 3
   },
   "file_extension": ".py",
   "mimetype": "text/x-python",
   "name": "python",
   "nbconvert_exporter": "python",
   "pygments_lexer": "ipython3",
   "version": "3.9.13"
  }
 },
 "nbformat": 4,
 "nbformat_minor": 5
}
